{
  "cells": [
    {
      "cell_type": "markdown",
      "metadata": {
        "id": "g00HAfprQ_El"
      },
      "source": [
        "# TP 4 Regression logistique avec régularisation\n",
        "Dans ce TP, nous aimerions faire une classification binaire en utilisant la régression.\n",
        "\n",
        "Pour ce faire, nous étudierons un ensemble de données avec la variable  (y) representant la commercialisation d'un profuit et les caractéristiques (X) representant les résultat des tests de qualité test 1 et test 2 du produit.\n",
        "\n",
        "La prédiction se fera avec l'agorithme de descente du gradient avec régularisation."
      ]
    },
    {
      "cell_type": "markdown",
      "metadata": {
        "id": "Cpy2CNplQ_Ey"
      },
      "source": [
        "# Importation des librairies necessaires au travail"
      ]
    },
    {
      "cell_type": "code",
      "execution_count": null,
      "metadata": {
        "id": "Enhtpwb-Q_E0"
      },
      "outputs": [],
      "source": [
        "import numpy as np\n",
        "import matplotlib.pyplot as plt\n",
        "from tqdm import tqdm"
      ]
    },
    {
      "cell_type": "code",
      "source": [
        "from sklearn.metrics import precision_score"
      ],
      "metadata": {
        "id": "DfOXZQsXefUf"
      },
      "execution_count": null,
      "outputs": []
    },
    {
      "cell_type": "code",
      "source": [
        "from google.colab import drive\n",
        "drive.mount('/content/drive')"
      ],
      "metadata": {
        "colab": {
          "base_uri": "https://localhost:8080/"
        },
        "id": "9kMBAGmhSE2v",
        "outputId": "3b99b289-e8b9-464e-f4f3-1cd67fa56d44"
      },
      "execution_count": null,
      "outputs": [
        {
          "output_type": "stream",
          "name": "stdout",
          "text": [
            "Mounted at /content/drive\n"
          ]
        }
      ]
    },
    {
      "cell_type": "markdown",
      "metadata": {
        "id": "yl-Kw66ZQ_E3"
      },
      "source": [
        "# Lecture des fichiers de données\n",
        "Pour ce TP, nous allons lire les données à partir d'un fichier csv."
      ]
    },
    {
      "cell_type": "code",
      "execution_count": null,
      "metadata": {
        "id": "AnkHnRw_Q_E4",
        "outputId": "1d5440ec-6b9f-498f-faa7-61567b2d47f9",
        "colab": {
          "base_uri": "https://localhost:8080/"
        }
      },
      "outputs": [
        {
          "output_type": "execute_result",
          "data": {
            "text/plain": [
              "(118, 3)"
            ]
          },
          "metadata": {},
          "execution_count": 5
        }
      ],
      "source": [
        "# données\n",
        "data = np.genfromtxt('/content/drive/MyDrive/AI/TP4/data.csv', delimiter=',', dtype=float)\n",
        "data.shape"
      ]
    },
    {
      "cell_type": "markdown",
      "metadata": {
        "id": "upRJRsLbQ_E7"
      },
      "source": [
        "Dans ces données (data), la première colonne represente la première note, la deuxieme colonne la deuxième note et la troisième colonne represente la commercialisation (1 oui 0 non).\n",
        "\n",
        "Chaque ligne represente un exemple de notre ensemble de données. \n",
        "\n",
        "Mettons ces données dans leus vecteurs correspondants."
      ]
    },
    {
      "cell_type": "code",
      "execution_count": null,
      "metadata": {
        "id": "RfMnobAbQ_E8"
      },
      "outputs": [],
      "source": [
        "# rajoutons l'ordonnée à l'origine theta 0\n",
        "intercept=np.ones((data.shape[0],1))\n",
        "X=np.column_stack((intercept,data[:,0:2]))\n",
        "y = data[:, 2];\n",
        "# forcer y à avoir une seule colonne\n",
        "y = y.reshape( y.shape[0], 1)"
      ]
    },
    {
      "cell_type": "code",
      "execution_count": null,
      "metadata": {
        "id": "0G2t3_SAQ_E9",
        "outputId": "b814f859-ad42-47c4-d88e-3a4771b4b0b4",
        "colab": {
          "base_uri": "https://localhost:8080/"
        }
      },
      "outputs": [
        {
          "output_type": "stream",
          "name": "stdout",
          "text": [
            "X (118, 3)  y  (118, 1)\n"
          ]
        }
      ],
      "source": [
        "print('X', X.shape ,' y ', y.shape)"
      ]
    },
    {
      "cell_type": "markdown",
      "metadata": {
        "id": "40F_yTI7Q_E_"
      },
      "source": [
        "# Transformation de données\n",
        "Dans cette partie, nous aimerions transformer nos données afin d'avoir une fonction polynomiale de degrée 6.\n",
        "\n",
        "La fonction sera:\n",
        "\n",
        "$x_0=1$\n",
        "\n",
        "$x_1=x_1$\n",
        "\n",
        "$x_2=x_2$\n",
        "\n",
        "$x_3={x_1}^2$\n",
        "\n",
        "$x_4={x_1}x_2$\n",
        "\n",
        "$x_5={x_2}^2$\n",
        "\n",
        "$x_6={x_1}^3$\n",
        "\n",
        "$x_7={x_1}^2 x_2$\n",
        "\n",
        "$x_8= x_1 {x_2}^2$\n",
        "\n",
        "$x_9= {x_2}^3$\n",
        "\n",
        "...\n"
      ]
    },
    {
      "cell_type": "markdown",
      "metadata": {
        "id": "THLJ_BnXQ_FB"
      },
      "source": [
        "Pour un polynme de degrée 6 à 2 variables nous aurons 28 caracteristiques\n",
        "\n",
        "**Question**: comment avons nous trouvé ce chiffre?\n",
        "\n",
        "**Astuce**: référez vous aux probabilités"
      ]
    },
    {
      "cell_type": "code",
      "execution_count": null,
      "metadata": {
        "id": "jeLaq3xfQ_FD"
      },
      "outputs": [],
      "source": [
        "def mapping(X):\n",
        "    \n",
        "    cols = 28\n",
        "    degree=7\n",
        "    outX= np.ones((X.shape[0],cols))\n",
        "    X1=X[:,1]\n",
        "    X2=X[:,2]\n",
        "    k=0\n",
        "    for i in range(degree):\n",
        "        for j in range(i+1):\n",
        "            outX[:, k] = np.power(X1,i-j)*(np.power(X2,j));\n",
        "            k=k+1\n",
        "    return outX    "
      ]
    },
    {
      "cell_type": "code",
      "execution_count": null,
      "metadata": {
        "id": "DUA8SpV_Q_FE",
        "outputId": "48d2d24c-c2dd-4d53-95fe-3243bc0dbb73",
        "colab": {
          "base_uri": "https://localhost:8080/"
        }
      },
      "outputs": [
        {
          "output_type": "execute_result",
          "data": {
            "text/plain": [
              "(118, 28)"
            ]
          },
          "metadata": {},
          "execution_count": 9
        }
      ],
      "source": [
        "X2=mapping(X)\n",
        "X2.shape"
      ]
    },
    {
      "cell_type": "code",
      "source": [
        "X2[0]"
      ],
      "metadata": {
        "colab": {
          "base_uri": "https://localhost:8080/"
        },
        "id": "XaH-CpZH9MPO",
        "outputId": "5bba45d2-99c6-458f-e9f6-c7b7eba14cee"
      },
      "execution_count": null,
      "outputs": [
        {
          "output_type": "execute_result",
          "data": {
            "text/plain": [
              "array([1.00000000e+00, 5.12670000e-02, 6.99560000e-01, 2.62830529e-03,\n",
              "       3.58643425e-02, 4.89384194e-01, 1.34745327e-04, 1.83865725e-03,\n",
              "       2.50892595e-02, 3.42353606e-01, 6.90798869e-06, 9.42624411e-05,\n",
              "       1.28625106e-03, 1.75514423e-02, 2.39496889e-01, 3.54151856e-07,\n",
              "       4.83255257e-06, 6.59422333e-05, 8.99809795e-04, 1.22782870e-02,\n",
              "       1.67542444e-01, 1.81563032e-08, 2.47750473e-07, 3.38066048e-06,\n",
              "       4.61305487e-05, 6.29470940e-04, 8.58939846e-03, 1.17205992e-01])"
            ]
          },
          "metadata": {},
          "execution_count": 10
        }
      ]
    },
    {
      "cell_type": "markdown",
      "metadata": {
        "id": "c0CA9qW2Q_FF"
      },
      "source": [
        "# Descente du Gradient : Préparation des fonctions"
      ]
    },
    {
      "cell_type": "markdown",
      "metadata": {
        "id": "iZrZeUuOQ_FG"
      },
      "source": [
        "0- Fonction mpgistique (Sigmoid)"
      ]
    },
    {
      "cell_type": "code",
      "execution_count": null,
      "metadata": {
        "id": "sk--osP2Q_FG"
      },
      "outputs": [],
      "source": [
        "def Sigmoid(z):\n",
        "    return 1/(1+np.exp(-z));"
      ]
    },
    {
      "cell_type": "markdown",
      "source": [
        "Fonction qui initialise la valeur de theta, par défaut elle initialise les valeurs à 0, mais elle peut aussi les initialiser a des valeurs aléatoire"
      ],
      "metadata": {
        "id": "N5Sg2VI-ZGqQ"
      }
    },
    {
      "cell_type": "code",
      "source": [
        "def init_theta(nb_features, initZero = True):\n",
        "  if (initZero):\n",
        "    return np.zeros((nb_features, 1))\n",
        "  return np.random.rand(nb_features,1) "
      ],
      "metadata": {
        "id": "F54H-v_XYnAA"
      },
      "execution_count": null,
      "outputs": []
    },
    {
      "cell_type": "markdown",
      "metadata": {
        "id": "xgoZyFPmQ_FI"
      },
      "source": [
        "1- Calcul du coût\n",
        "\n",
        "Cette fonction servira à calculer le cout $J(\\theta_0,\\theta_1)$\n",
        "\n",
        "Elle prendra l'ensemble de données d'apprentissage en entrée ainsi que les paramètres définis initialement"
      ]
    },
    {
      "cell_type": "code",
      "source": [
        "def hest(X, theta):\n",
        "  return Sigmoid(X @ theta)"
      ],
      "metadata": {
        "id": "iWR_l8dce9xW"
      },
      "execution_count": null,
      "outputs": []
    },
    {
      "cell_type": "code",
      "source": [
        "def computeCost(X, y, theta, lambdaa):\n",
        "    mean = -np.mean(y * np.log(hest(X, theta)) + (1 - y) * np.log(1 - hest(X, theta)))\n",
        "    regu = (lambdaa/(2*len(y))) * (theta[1:].T @ theta[1:])\n",
        "    return float(mean + regu)"
      ],
      "metadata": {
        "id": "T05qNiQsfOaN"
      },
      "execution_count": null,
      "outputs": []
    },
    {
      "cell_type": "markdown",
      "metadata": {
        "id": "tB-Y-5YcQ_FJ"
      },
      "source": [
        "2- Fonction de la descente du gradient\n",
        "\n",
        "Cette fonction mettra à jour les paramètres $\\theta_0,\\theta_1$ jusqu'à convergence: atteinte du nombre d'itérations max, ou dérivée assez petite."
      ]
    },
    {
      "cell_type": "code",
      "execution_count": null,
      "metadata": {
        "id": "AxerPsdZQ_FK"
      },
      "outputs": [],
      "source": [
        "def gradientDescent(X, y, alpha, iterations, lambdaa, initZero = True):\n",
        "  theta = init_theta(X.shape[1], initZero)\n",
        "  # initialisation des liste des historiques\n",
        "  cost_list = []\n",
        "  thetas_list = np.zeros((iterations, theta.shape[0]))\n",
        "  theta0_list = []\n",
        "  theta1_list = []\n",
        "  theta2_list = []\n",
        "\n",
        "  H = np.zeros((X.shape[0], 1))\n",
        "  m = len(y)\n",
        "\n",
        "  # Sauvegarde de la première valeur \n",
        "  cost_list.append((0, computeCost(X, y, theta, lambdaa)))\n",
        "  theta0_list.append(theta[0])\n",
        "  theta1_list.append(theta[1])\n",
        "  theta2_list.append(theta[2])\n",
        "\n",
        "  for iter in tqdm(range(iterations)):\n",
        "    H = hest(X, theta)\n",
        "    thetas_list[iter, :] = theta.flatten()\n",
        "\n",
        "    theta[0] = theta[0] - alpha * 1/m * (X2.T @ (hest(X2, theta) - y))[0]\n",
        "    theta[1:] = theta[1:] - alpha * 1/m * (X2.T @ (hest(X2, theta) - y))[1:] + (lambdaa / m) * theta[1:]\n",
        "\n",
        "    # Sauvegarde des résulat de l'itération\n",
        "    # thetas_list.append(theta)\n",
        "    theta0_list.append(theta[0])\n",
        "    theta1_list.append(theta[1])\n",
        "    theta2_list.append(theta[2])\n",
        "    cost_list.append((iter + 1, computeCost(X, y, theta, lambdaa)))\n",
        "    \n",
        "  return theta, theta0_list,theta1_list,theta2_list ,np.array(cost_list), thetas_list"
      ]
    },
    {
      "cell_type": "markdown",
      "metadata": {
        "id": "9fj4Z30JQ_FK"
      },
      "source": [
        "# Descente du Gradient : Appel des fonctions"
      ]
    },
    {
      "cell_type": "markdown",
      "metadata": {
        "id": "23BmMeUAQ_FL"
      },
      "source": [
        "Initialisation de $\\theta_0$ et $\\theta_1$"
      ]
    },
    {
      "cell_type": "markdown",
      "metadata": {
        "id": "nEiMuuD2Q_FN"
      },
      "source": [
        "Calculer le cout initial"
      ]
    },
    {
      "cell_type": "code",
      "execution_count": null,
      "metadata": {
        "id": "-WTBDL03Q_FN",
        "outputId": "86423d18-0b9f-466e-f8c3-9ad169fd4516",
        "colab": {
          "base_uri": "https://localhost:8080/"
        }
      },
      "outputs": [
        {
          "output_type": "stream",
          "name": "stdout",
          "text": [
            "0.6931471805599454\n"
          ]
        }
      ],
      "source": [
        "# Initialisation de theta \n",
        "theta = np.zeros((X2.shape[1], 1))\n",
        "\n",
        "# Calcule du cout initial\n",
        "initialCost=computeCost(X2, y, theta, 1)\n",
        "print(initialCost)"
      ]
    },
    {
      "cell_type": "markdown",
      "metadata": {
        "id": "g1uYLfjTQ_FO"
      },
      "source": [
        "Appel des la fonction de calcul du gradient"
      ]
    },
    {
      "cell_type": "markdown",
      "source": [
        "Le nombre d'itération a été calculé par essai (trial and error), nous avons essayé plusieurs valeurs et nous avons trouvé que 213 itération été le nombre qui minimisé le plus la fonction cout, de même pour la valeur de alpha (1) et lambdaa (0.2)"
      ],
      "metadata": {
        "id": "DtSj_MxCZxRJ"
      }
    },
    {
      "cell_type": "code",
      "execution_count": null,
      "metadata": {
        "id": "_TrmfSpQQ_FO",
        "colab": {
          "base_uri": "https://localhost:8080/"
        },
        "outputId": "267a45dc-fbae-45bc-8170-ad1fd8d4bfaa"
      },
      "outputs": [
        {
          "output_type": "stream",
          "name": "stderr",
          "text": [
            "100%|██████████| 213/213 [00:00<00:00, 2730.52it/s]\n"
          ]
        }
      ],
      "source": [
        "# paramètres\n",
        "iterations = 213;\n",
        "alpha = 1;\n",
        "\n",
        "# paramètre de regression\n",
        "lambdaa = 0.2;\n",
        "\n",
        "# Appel\n",
        "theta, theta0_list, theta1_list, theta2_list, cost_list, thetas_list = gradientDescent(X2, y, alpha, iterations, lambdaa);"
      ]
    },
    {
      "cell_type": "markdown",
      "source": [
        "les valeur de theta après training"
      ],
      "metadata": {
        "id": "2UbYfBJIZbUF"
      }
    },
    {
      "cell_type": "code",
      "source": [
        "theta.flatten()"
      ],
      "metadata": {
        "id": "AVE-3VRb_4xk",
        "colab": {
          "base_uri": "https://localhost:8080/"
        },
        "outputId": "35686cb7-4472-455b-e5f4-687d367056b0"
      },
      "execution_count": null,
      "outputs": [
        {
          "output_type": "execute_result",
          "data": {
            "text/plain": [
              "array([ 2.21080447e+00,  1.49210988e+00,  2.45876735e+00, -3.71815429e+00,\n",
              "       -2.14612850e+00, -2.60619177e+00,  4.35791438e-01, -8.43352997e-01,\n",
              "       -7.85529719e-01, -2.67473595e-01, -2.85131631e+00, -1.84076520e-01,\n",
              "       -1.24020225e+00, -6.99276434e-01, -2.33223034e+00, -4.12563854e-01,\n",
              "       -4.81912051e-01, -8.06498580e-02, -6.02389889e-01, -6.96007824e-01,\n",
              "       -8.73796780e-01, -2.10796274e+00,  1.35193224e-02, -5.95462739e-01,\n",
              "        3.42049989e-03, -6.78792290e-01, -3.98289550e-01, -1.85559544e+00])"
            ]
          },
          "metadata": {},
          "execution_count": 18
        }
      ]
    },
    {
      "cell_type": "markdown",
      "source": [
        "la valeur optimal des theta (voir Renforcement de l'apprentissage pour voir comment les calculer)"
      ],
      "metadata": {
        "id": "_qnmkLVFZf0P"
      }
    },
    {
      "cell_type": "code",
      "source": [
        "# ([ 1.27273835,  0.62527208,  1.18108752, -2.01995903, -0.91742836, -1.43166197,\n",
        "#   0.12398098, -0.36553476, -0.35724833, -0.17513043, -1.45814442, -0.05098716,\n",
        "#  -0.61555482, -0.27470373, -1.1928325,  -0.24217867, -0.20601669, -0.04469701,\n",
        "#  -0.27778463, -0.29538671, -0.45635611, -1.04319845,  0.02778263, -0.29243595,\n",
        "#   0.01556179, -0.32739001, -0.14389029, -0.92463469])"
      ],
      "metadata": {
        "id": "ZH4Qn-vp4b-m"
      },
      "execution_count": null,
      "outputs": []
    },
    {
      "cell_type": "markdown",
      "source": [
        "Calcule du cout final"
      ],
      "metadata": {
        "id": "Vj1erBdCZrkv"
      }
    },
    {
      "cell_type": "code",
      "source": [
        "finalCost=computeCost(X2, y, theta, 1)\n",
        "print(finalCost)"
      ],
      "metadata": {
        "colab": {
          "base_uri": "https://localhost:8080/"
        },
        "id": "XGcAgFFa_u56",
        "outputId": "5ab9ede8-1063-426b-9cb8-a256c4247564"
      },
      "execution_count": null,
      "outputs": [
        {
          "output_type": "stream",
          "name": "stdout",
          "text": [
            "0.6395880400388156\n"
          ]
        }
      ]
    },
    {
      "cell_type": "code",
      "source": [
        "plt.plot(cost_list[:,1])\n",
        "plt.xlabel(\"Iteration\")\n",
        "plt.ylabel(\"$J(\\Theta)$\")\n",
        "plt.title(\"Cost function using Gradient Descent\")"
      ],
      "metadata": {
        "colab": {
          "base_uri": "https://localhost:8080/",
          "height": 312
        },
        "id": "ILYWDsllTs4D",
        "outputId": "8f2642d5-d97f-4d6d-8338-15764cc45ddb"
      },
      "execution_count": null,
      "outputs": [
        {
          "output_type": "execute_result",
          "data": {
            "text/plain": [
              "Text(0.5, 1.0, 'Cost function using Gradient Descent')"
            ]
          },
          "metadata": {},
          "execution_count": 21
        },
        {
          "output_type": "display_data",
          "data": {
            "text/plain": [
              "<Figure size 432x288 with 1 Axes>"
            ],
            "image/png": "[encoded data removed]"
          },
          "metadata": {
            "needs_background": "light"
          }
        }
      ]
    },
    {
      "cell_type": "markdown",
      "metadata": {
        "id": "layKgLnfQ_FP"
      },
      "source": [
        "Traçage de la fonction du coût"
      ]
    },
    {
      "cell_type": "markdown",
      "metadata": {
        "id": "VSBrhfq7Q_FP"
      },
      "source": [
        "Notons que $\\theta^T  x$ est équivalent à $X  \\theta $ où $X= \\begin{pmatrix}\n",
        "..(x^{(1)})^T..\\\\\n",
        "..(x^{(2)})^T..\\\\\n",
        ".\\\\\n",
        ".\\\\\n",
        ".\\\\\n",
        "..(x^{(m)})^T..\n",
        "\\end{pmatrix} $"
      ]
    },
    {
      "cell_type": "markdown",
      "metadata": {
        "id": "Z2QIVlDEQ_FQ"
      },
      "source": [
        "# Dessin de la limite de decision (Descision Boundary)\n",
        "Dans cette partie, nous aimerions dessiner la ligne separatrice d nos données"
      ]
    },
    {
      "cell_type": "code",
      "execution_count": null,
      "metadata": {
        "id": "vwsOvJ5qQ_FQ"
      },
      "outputs": [],
      "source": [
        "def drawCircle(X1, X2):\n",
        "    degree = 7\n",
        "    out = np.ones(1)\n",
        "    for i in range(1, degree):\n",
        "        for j in range(i+1):\n",
        "            out = np.hstack((out, np.multiply(np.power(X1, i-j), np.power(X2, j))))\n",
        "    return out"
      ]
    },
    {
      "cell_type": "markdown",
      "metadata": {
        "id": "ydlvu99MQ_FQ"
      },
      "source": [
        "# Classification (Prédiction)\n",
        "Ici il serait interessant de calculer la prédiction en utilisant un seuil\n",
        "i.e. si h>seuil alors classe =1 sinon classe = 0"
      ]
    },
    {
      "cell_type": "code",
      "execution_count": null,
      "metadata": {
        "id": "nFpAmxK9Q_FR"
      },
      "outputs": [],
      "source": [
        "def predict(X, theta):\n",
        "    return Sigmoid(X @ theta)>0.5"
      ]
    },
    {
      "cell_type": "markdown",
      "metadata": {
        "id": "wzGL51yQQ_FR"
      },
      "source": [
        "# Affichage \n",
        "Graphe representant les acceptations selon les caracteristiques"
      ]
    },
    {
      "cell_type": "code",
      "source": [
        "u = np.linspace(-1, 1.5, 50)\n",
        "v = np.linspace(-1, 1.5, 50)\n",
        "z = np.zeros((len(u), len(v)))"
      ],
      "metadata": {
        "id": "NnbZYHnRysJV"
      },
      "execution_count": null,
      "outputs": []
    },
    {
      "cell_type": "code",
      "execution_count": null,
      "metadata": {
        "id": "v9hp-rklQ_FR",
        "outputId": "b3b8b496-6c46-49c9-d01a-23812ebb89a0",
        "colab": {
          "base_uri": "https://localhost:8080/",
          "height": 300
        }
      },
      "outputs": [
        {
          "output_type": "execute_result",
          "data": {
            "text/plain": [
              "Text(0, 0.5, 'x 2')"
            ]
          },
          "metadata": {},
          "execution_count": 25
        },
        {
          "output_type": "display_data",
          "data": {
            "text/plain": [
              "<Figure size 432x288 with 1 Axes>"
            ],
            "image/png": "[encoded data removed]"
          },
          "metadata": {
            "needs_background": "light"
          }
        }
      ],
      "source": [
        "plt.scatter(X[np.where(y==1),1],X[np.where(y==1),2], label=\"y=1\",marker ='o')\n",
        "plt.scatter(X[np.where(y==0),1],X[np.where(y==0),2], label=\"y=0\",marker ='x')\n",
        "for i in range(len(u)):\n",
        "    for j in range(len(v)):\n",
        "        z[i,j] = np.dot(drawCircle(u[i], v[j]), theta)\n",
        "plt.contour(u,v,z,0)\n",
        "plt.xlabel('x 1')\n",
        "plt.ylabel('x 2')"
      ]
    },
    {
      "cell_type": "markdown",
      "metadata": {
        "id": "vtGr7i1fQ_FV"
      },
      "source": [
        "Traçage du coût en fonction de theta0 et theta1"
      ]
    },
    {
      "cell_type": "code",
      "source": [
        "colors = ['red', 'green', 'blue', 'yellow', 'orange', 'black', 'purple']"
      ],
      "metadata": {
        "id": "hf3k-vlYXKVr"
      },
      "execution_count": null,
      "outputs": []
    },
    {
      "cell_type": "code",
      "source": [
        "f = plt.figure()\n",
        "f.set_figwidth(20)\n",
        "f.set_figheight(5)\n",
        "\n",
        "plt.subplot(1, 2, 1) # row 1, col 2 index 1\n",
        "for i in range(int(theta.shape[0]/4)):\n",
        "  plt.plot(thetas_list[:, i][0:len(thetas_list[:, i])], color=colors[i], label='$\\\\theta_{'+str(i)+'}$')\n",
        "plt.xlabel(\"Iterations\")\n",
        "plt.ylabel(\"theta values\")\n",
        "plt.legend()\n",
        "lim = 2 * int(theta.shape[0]/4)\n",
        "plt.subplot(1, 2, 2) # index 2\n",
        "for i in range(int(theta.shape[0]/4), 2 * int(theta.shape[0]/4)):\n",
        "  plt.plot(thetas_list[:, i][0:len(thetas_list[:, i])], color=colors[i%7], label='$\\\\theta_{'+str(i)+'}$')\n",
        "plt.xlabel(\"Iterations\")\n",
        "plt.ylabel(\"theta values\")\n",
        "plt.legend()"
      ],
      "metadata": {
        "colab": {
          "base_uri": "https://localhost:8080/",
          "height": 351
        },
        "id": "rcHMy_bPYsFO",
        "outputId": "4b5e174c-4cb6-4243-d8ee-767cebcfaf9b"
      },
      "execution_count": null,
      "outputs": [
        {
          "output_type": "execute_result",
          "data": {
            "text/plain": [
              "<matplotlib.legend.Legend at 0x7ff15d1b1fd0>"
            ]
          },
          "metadata": {},
          "execution_count": 27
        },
        {
          "output_type": "display_data",
          "data": {
            "text/plain": [
              "<Figure size 1440x360 with 2 Axes>"
            ],
            "image/png": "[encoded data removed]"
          },
          "metadata": {
            "needs_background": "light"
          }
        }
      ]
    },
    {
      "cell_type": "code",
      "source": [
        "f = plt.figure()\n",
        "f.set_figwidth(20)\n",
        "f.set_figheight(5)\n",
        "\n",
        "lim = 3 * int(theta.shape[0]/4)\n",
        "plt.subplot(1, 2, 1) # row 1, col 2 index 1\n",
        "for i in range(2 * int(theta.shape[0]/4), 3 * int(theta.shape[0]/4)):\n",
        "  plt.plot(thetas_list[:, i][0:len(thetas_list[:, i])], color=colors[i%7], label='$\\\\theta_{'+str(i)+'}$')\n",
        "plt.xlabel(\"Iterations\")\n",
        "plt.ylabel(\"theta values\")\n",
        "plt.legend()\n",
        "\n",
        "lim = 4 * int(theta.shape[0]/4)\n",
        "plt.subplot(1, 2, 2) # index 2\n",
        "for i in range(3 * int(theta.shape[0]/4), 4 * int(theta.shape[0]/4)):\n",
        "  plt.plot(thetas_list[:, i][0:len(thetas_list[:, i])], color=colors[i%7], label='$\\\\theta_{'+str(i)+'}$')\n",
        "plt.xlabel(\"Iterations\")\n",
        "plt.ylabel(\"theta values\")\n",
        "plt.legend()"
      ],
      "metadata": {
        "colab": {
          "base_uri": "https://localhost:8080/",
          "height": 351
        },
        "id": "es2vTpONZ8dk",
        "outputId": "653f217f-1711-4d7b-dde3-905d2b479d95"
      },
      "execution_count": null,
      "outputs": [
        {
          "output_type": "execute_result",
          "data": {
            "text/plain": [
              "<matplotlib.legend.Legend at 0x7ff15d09ab50>"
            ]
          },
          "metadata": {},
          "execution_count": 28
        },
        {
          "output_type": "display_data",
          "data": {
            "text/plain": [
              "<Figure size 1440x360 with 2 Axes>"
            ],
            "image/png": "[encoded data removed]"
          },
          "metadata": {
            "needs_background": "light"
          }
        }
      ]
    },
    {
      "cell_type": "markdown",
      "metadata": {
        "id": "w_mNb5oSQ_FW"
      },
      "source": [
        "# Qualité du classifieur\n",
        "\n",
        "Prédire des valeurs de y\n",
        "\n",
        "Ici il serait interessant de calculer la précision de notre classifieur\n",
        "\n",
        "Essayons de calculer ça avec \n",
        "\n",
        "moyenne(y==y-pred) * 100\n",
        "\n",
        "Ceci donnera un pourcentage de precision"
      ]
    },
    {
      "cell_type": "code",
      "execution_count": null,
      "metadata": {
        "id": "4ZQ3NnJPQ_FW",
        "colab": {
          "base_uri": "https://localhost:8080/"
        },
        "outputId": "1a3e6f31-2968-4157-b977-b3b6622fadf0"
      },
      "outputs": [
        {
          "output_type": "execute_result",
          "data": {
            "text/plain": [
              "83.05084745762711"
            ]
          },
          "metadata": {},
          "execution_count": 50
        }
      ],
      "source": [
        "# calcul de precision = nombre de valeurs bien prédites (ici sur toute la base X)\n",
        "y_pred=predict(X2, theta)\n",
        "prcision = np.mean(y==y_pred)*100\n",
        "prcision"
      ]
    },
    {
      "cell_type": "code",
      "source": [
        "precision_score(y, y_pred)"
      ],
      "metadata": {
        "colab": {
          "base_uri": "https://localhost:8080/"
        },
        "id": "FYq0YJZ_eufX",
        "outputId": "581ee208-4f09-4b67-fccf-0b9a6dc6e660"
      },
      "execution_count": null,
      "outputs": [
        {
          "output_type": "execute_result",
          "data": {
            "text/plain": [
              "0.796875"
            ]
          },
          "metadata": {},
          "execution_count": 31
        }
      ]
    },
    {
      "cell_type": "markdown",
      "metadata": {
        "id": "ZjcsqnkMQ_FX"
      },
      "source": [
        "# Vérification de l'implementation\n",
        "Comparer vos algorithmes à ceux de scikitlearn"
      ]
    },
    {
      "cell_type": "code",
      "execution_count": null,
      "metadata": {
        "id": "iwtV2dDyQ_FX"
      },
      "outputs": [],
      "source": [
        "from sklearn.linear_model import LogisticRegression, Ridge\n",
        "logisticRegr = LogisticRegression(penalty='l2')"
      ]
    },
    {
      "cell_type": "code",
      "execution_count": null,
      "metadata": {
        "id": "bwIR_uX0Q_FY",
        "colab": {
          "base_uri": "https://localhost:8080/"
        },
        "outputId": "4870cb23-b7e2-46d2-f2c0-d88400b26e69"
      },
      "outputs": [
        {
          "output_type": "execute_result",
          "data": {
            "text/plain": [
              "LogisticRegression()"
            ]
          },
          "metadata": {},
          "execution_count": 33
        }
      ],
      "source": [
        "logisticRegr.fit(X2[:, 1:], y.ravel())"
      ]
    },
    {
      "cell_type": "code",
      "source": [
        "sklearnTheta = np.concatenate([logisticRegr.intercept_, logisticRegr.coef_[0, :]])\n",
        "sklearnTheta"
      ],
      "metadata": {
        "colab": {
          "base_uri": "https://localhost:8080/"
        },
        "id": "Gq4TrSIae1X7",
        "outputId": "07ac275c-05a1-4cde-862e-b2ade63c8866"
      },
      "execution_count": null,
      "outputs": [
        {
          "output_type": "execute_result",
          "data": {
            "text/plain": [
              "array([ 1.27271075,  0.62536719,  1.18095854, -2.01961804, -0.91752388,\n",
              "       -1.43170395,  0.12391867, -0.36536954, -0.35715555, -0.17501434,\n",
              "       -1.45827831, -0.05112356, -0.61575808, -0.27472128, -1.19276292,\n",
              "       -0.24241519, -0.20587922, -0.0448395 , -0.27780311, -0.29535733,\n",
              "       -0.45625452, -1.04347339,  0.02770608, -0.29252353,  0.01550105,\n",
              "       -0.32746466, -0.1439423 , -0.92460358])"
            ]
          },
          "metadata": {},
          "execution_count": 34
        }
      ]
    },
    {
      "cell_type": "code",
      "source": [
        "preds = logisticRegr.predict(X2[:, 1:])\n",
        "prc = np.mean(y==preds)*100\n",
        "prc"
      ],
      "metadata": {
        "colab": {
          "base_uri": "https://localhost:8080/"
        },
        "id": "seP3hS_0dvBq",
        "outputId": "98d20500-7eee-4609-c7ac-c1b8480f7570"
      },
      "execution_count": null,
      "outputs": [
        {
          "output_type": "execute_result",
          "data": {
            "text/plain": [
              "49.87072680264292"
            ]
          },
          "metadata": {},
          "execution_count": 52
        }
      ]
    },
    {
      "cell_type": "code",
      "source": [
        "precision_score(y, preds)"
      ],
      "metadata": {
        "colab": {
          "base_uri": "https://localhost:8080/"
        },
        "id": "MGniJhRuemc7",
        "outputId": "89184c64-660d-4b3d-d6c6-30ed1da2a89e"
      },
      "execution_count": null,
      "outputs": [
        {
          "output_type": "execute_result",
          "data": {
            "text/plain": [
              "0.7794117647058824"
            ]
          },
          "metadata": {},
          "execution_count": 36
        }
      ]
    },
    {
      "cell_type": "code",
      "source": [
        "u = np.linspace(-1, 1.5, 50)\n",
        "v = np.linspace(-1, 1.5, 50)\n",
        "z = np.zeros((len(u), len(v)))"
      ],
      "metadata": {
        "id": "aaJYOTTQekdL"
      },
      "execution_count": null,
      "outputs": []
    },
    {
      "cell_type": "code",
      "source": [
        "f = plt.figure()\n",
        "f.set_figwidth(20)\n",
        "f.set_figheight(5)\n",
        "\n",
        "plt.subplot(1, 2, 1) # row 1, col 2 index 1\n",
        "plt.scatter(X[np.where(y==1),1],X[np.where(y==1),2], label=\"y=1\",marker ='o')\n",
        "plt.scatter(X[np.where(y==0),1],X[np.where(y==0),2], label=\"y=0\",marker ='x')\n",
        "for i in range(len(u)):\n",
        "    for j in range(len(v)):\n",
        "        z[i,j] = np.dot(drawCircle(u[i], v[j]), theta)\n",
        "plt.contour(u,v,z,0)\n",
        "plt.xlabel('x 1')\n",
        "plt.ylabel('x 2')\n",
        "plt.title('From Scratch')\n",
        "plt.legend()\n",
        "\n",
        "plt.subplot(1, 2, 2) # index 2\n",
        "plt.scatter(X[np.where(y==1),1],X[np.where(y==1),2], label=\"y=1\",marker ='o')\n",
        "plt.scatter(X[np.where(y==0),1],X[np.where(y==0),2], label=\"y=0\",marker ='x')\n",
        "for i in range(len(u)):\n",
        "    for j in range(len(v)):\n",
        "        z[i,j] = np.dot(drawCircle(u[i], v[j]), sklearnTheta)\n",
        "plt.contour(u,v,z,0)\n",
        "plt.xlabel('x 1')\n",
        "plt.ylabel('x 2')\n",
        "plt.title('Sklearn')\n",
        "plt.legend()\n"
      ],
      "metadata": {
        "colab": {
          "base_uri": "https://localhost:8080/",
          "height": 367
        },
        "id": "6_mjoUXceXr8",
        "outputId": "f49b1a65-2a69-4a38-faba-b756b804bf85"
      },
      "execution_count": null,
      "outputs": [
        {
          "output_type": "execute_result",
          "data": {
            "text/plain": [
              "<matplotlib.legend.Legend at 0x7ff15cb00510>"
            ]
          },
          "metadata": {},
          "execution_count": 38
        },
        {
          "output_type": "display_data",
          "data": {
            "text/plain": [
              "<Figure size 1440x360 with 2 Axes>"
            ],
            "image/png": "[encoded data removed]"
          },
          "metadata": {
            "needs_background": "light"
          }
        }
      ]
    },
    {
      "cell_type": "markdown",
      "metadata": {
        "id": "s-AfJUZAQ_FY"
      },
      "source": [
        "# Renforcement d'apprentissage\n",
        "Mettre ici toute idée qui pourrait renforcer votre apprentissage"
      ]
    },
    {
      "cell_type": "markdown",
      "source": [
        "il existe une fonction dans la librairie scipy qui permet d'avoir les valeurs optimal pour un algorithme de décente de gradent donné en fonction de sa fonction cout"
      ],
      "metadata": {
        "id": "SQlpa2qEiTQE"
      }
    },
    {
      "cell_type": "code",
      "source": [
        "import scipy.optimize as opt"
      ],
      "metadata": {
        "id": "myEAeBSqlB4v"
      },
      "execution_count": null,
      "outputs": []
    },
    {
      "cell_type": "code",
      "source": [
        "def lrCostFunction(theta_t, X_t, y_t, lambda_t):\n",
        "    m = len(y_t)\n",
        "    J = (-1/m) * (y_t.T @ np.log(Sigmoid(X_t @ theta_t)) + (1 - y_t.T) @ np.log(1 - Sigmoid(X_t @ theta_t)))\n",
        "    reg = (lambda_t/(2*m)) * (theta_t[1:].T @ theta_t[1:])\n",
        "    J = J + reg\n",
        "    return J"
      ],
      "metadata": {
        "id": "mLeyzJJRlMWV"
      },
      "execution_count": null,
      "outputs": []
    },
    {
      "cell_type": "code",
      "source": [
        "def lrGradientDescent(theta, X, y, lambda_t):\n",
        "    m = len(y)\n",
        "    grad = np.zeros([m,1])\n",
        "    grad = (1/m) * X.T @ (Sigmoid(X @ theta) - y)\n",
        "    grad[1:] = grad[1:] + (lambda_t / m) * theta[1:]\n",
        "    return grad"
      ],
      "metadata": {
        "id": "zp-sdQyAlMMj"
      },
      "execution_count": null,
      "outputs": []
    },
    {
      "cell_type": "code",
      "source": [
        "output = opt.fmin_tnc(func = lrCostFunction, x0 = theta.flatten(), fprime = lrGradientDescent, \\\n",
        "                         args = (X2, y.flatten(), 1))\n",
        "thetaopt = output[0]\n",
        "print(output[0]) # les valeurs optimal de theta "
      ],
      "metadata": {
        "colab": {
          "base_uri": "https://localhost:8080/"
        },
        "id": "jfBO8eC1M_Ib",
        "outputId": "2d3f9a13-8105-47b0-a7f6-b64859681de0"
      },
      "execution_count": null,
      "outputs": [
        {
          "output_type": "stream",
          "name": "stdout",
          "text": [
            "[ 1.27273258  0.62528023  1.18110577 -2.01996107 -0.91746016 -1.43169292\n",
            "  0.12403117 -0.36550152 -0.35725554 -0.17520786 -1.45812915 -0.05097392\n",
            " -0.61551469 -0.27472713 -1.19275321 -0.24214413 -0.20605542 -0.04476694\n",
            " -0.27777932 -0.29537691 -0.45631467 -1.04324804  0.02775769 -0.2924179\n",
            "  0.01553576 -0.32735816 -0.14383493 -0.92464732]\n"
          ]
        }
      ]
    },
    {
      "cell_type": "markdown",
      "source": [
        "Ces valeurs ci représente les valeurs optimal d'une regression logistique basé sur une décente de gradient et fonction cout et de nos donnée"
      ],
      "metadata": {
        "id": "yc4sxfHBcr7V"
      }
    },
    {
      "cell_type": "code",
      "source": [
        "y2_pred=predict(X2, thetaopt)\n",
        "prcision2 = np.mean(y==y2_pred)*100\n",
        "prcision2"
      ],
      "metadata": {
        "colab": {
          "base_uri": "https://localhost:8080/"
        },
        "id": "pnJQF5joc7c-",
        "outputId": "59d43dde-ebbc-484b-aafb-eb69d2e14f9e"
      },
      "execution_count": null,
      "outputs": [
        {
          "output_type": "execute_result",
          "data": {
            "text/plain": [
              "49.87072680264292"
            ]
          },
          "metadata": {},
          "execution_count": 43
        }
      ]
    },
    {
      "cell_type": "code",
      "source": [
        "precision_score(y, y2_pred)"
      ],
      "metadata": {
        "colab": {
          "base_uri": "https://localhost:8080/"
        },
        "id": "heiH-0CNkOjA",
        "outputId": "eda28144-7c9a-4d63-d6b4-97859e53dc1c"
      },
      "execution_count": null,
      "outputs": [
        {
          "output_type": "execute_result",
          "data": {
            "text/plain": [
              "0.7794117647058824"
            ]
          },
          "metadata": {},
          "execution_count": 44
        }
      ]
    },
    {
      "cell_type": "markdown",
      "metadata": {
        "id": "3Xg681LiQ_FY"
      },
      "source": [
        "# Consignes"
      ]
    },
    {
      "cell_type": "markdown",
      "metadata": {
        "id": "290qN5v5Q_FZ"
      },
      "source": [
        "Le travail est à remettre par groupe de 4 au maximum [1..4].\n",
        "\n",
        "Le délai est le vendredi 01 Avril 2022 à 22h\n"
      ]
    },
    {
      "cell_type": "code",
      "execution_count": null,
      "metadata": {
        "id": "Y43P5kKUQ_FZ"
      },
      "outputs": [],
      "source": [
        "# bonne chance"
      ]
    }
  ],
  "metadata": {
    "kernelspec": {
      "display_name": "Python 3",
      "language": "python",
      "name": "python3"
    },
    "language_info": {
      "codemirror_mode": {
        "name": "ipython",
        "version": 3
      },
      "file_extension": ".py",
      "mimetype": "text/x-python",
      "name": "python",
      "nbconvert_exporter": "python",
      "pygments_lexer": "ipython3",
      "version": "3.7.3"
    },
    "colab": {
      "name": "04 Regularisation.ipynb",
      "provenance": [],
      "collapsed_sections": []
    }
  },
  "nbformat": 4,
  "nbformat_minor": 0
}