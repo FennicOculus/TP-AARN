{
  "cells": [
    {
      "cell_type": "markdown",
      "metadata": {
        "id": "foqEYM-sli2O"
      },
      "source": [
        "# TP 3 Regression linéaire\n",
        "Dans ce TP, nous aimerions prédire l'admission d'un étudiant à une specialité donnée selon ses notes dans deux matières.\n",
        "\n",
        "Pour ce faire, nous étudierons un ensemble de données avec l'admission  (y) et les notes des deux modules (X).\n",
        "\n",
        "La prédiction se fera avec l'agorithme de descente du gradient."
      ]
    },
    {
      "cell_type": "markdown",
      "metadata": {
        "id": "6AYN2BHEli2Z"
      },
      "source": [
        "# Importation des librairies necessaires au travail"
      ]
    },
    {
      "cell_type": "code",
      "execution_count": null,
      "metadata": {
        "id": "6J2w19Czli2a"
      },
      "outputs": [],
      "source": [
        "import numpy as np\n",
        "import matplotlib.pyplot as plt\n",
        "from tqdm import tqdm"
      ]
    },
    {
      "cell_type": "code",
      "source": [
        "from google.colab import drive\n",
        "drive.mount('/content/drive')"
      ],
      "metadata": {
        "colab": {
          "base_uri": "https://localhost:8080/"
        },
        "id": "1iEKuo5K9dhg",
        "outputId": "e57e4c21-1c16-46d2-ed39-baee0aebcf7c"
      },
      "execution_count": null,
      "outputs": [
        {
          "output_type": "stream",
          "name": "stdout",
          "text": [
            "Drive already mounted at /content/drive; to attempt to forcibly remount, call drive.mount(\"/content/drive\", force_remount=True).\n"
          ]
        }
      ]
    },
    {
      "cell_type": "markdown",
      "metadata": {
        "id": "G9A1It5rli2d"
      },
      "source": [
        "# Lecture des fichiers de données\n",
        "Pour ce TP, nous allons lire les données à partir d'un fichier csv."
      ]
    },
    {
      "cell_type": "code",
      "execution_count": null,
      "metadata": {
        "id": "cneTjwPQli2e",
        "outputId": "05d0be0a-6486-4832-b7e6-99f9d40cabf2",
        "colab": {
          "base_uri": "https://localhost:8080/"
        }
      },
      "outputs": [
        {
          "output_type": "execute_result",
          "data": {
            "text/plain": [
              "(100, 3)"
            ]
          },
          "metadata": {},
          "execution_count": 24
        }
      ],
      "source": [
        "# données\n",
        "data = np.genfromtxt('/content/drive/MyDrive/AI/TP3/data.csv', delimiter=',', dtype=float)\n",
        "data.shape"
      ]
    },
    {
      "cell_type": "markdown",
      "metadata": {
        "id": "gbACwp5rli2h"
      },
      "source": [
        "Dans ces données (data), la première colonne represente la première note, la deuxieme colonne la deuxième note et la troisième colonne represente l'admission à la specialité (1 admis 0 non admis).\n",
        "\n",
        "Chaque ligne represente un exemple de notre ensemble de données. \n",
        "\n",
        "Mettons ces données dans leus vecteurs correspondants."
      ]
    },
    {
      "cell_type": "code",
      "execution_count": null,
      "metadata": {
        "id": "gr-4eRanli2j"
      },
      "outputs": [],
      "source": [
        "# rajoutons l'ordonnée à l'origine theta 0\n",
        "intercept=np.ones((data.shape[0],1))\n",
        "X=np.column_stack((intercept,data[:,0:2]))\n",
        "y = data[:, 2]\n",
        "y = y.reshape(len(y), 1)"
      ]
    },
    {
      "cell_type": "code",
      "execution_count": null,
      "metadata": {
        "id": "46uNf7Gwli2k",
        "outputId": "190f9789-b4ad-493b-bcf1-462b213d646d",
        "colab": {
          "base_uri": "https://localhost:8080/"
        }
      },
      "outputs": [
        {
          "output_type": "stream",
          "name": "stdout",
          "text": [
            "X (100, 3)  y  (100, 1)\n"
          ]
        }
      ],
      "source": [
        "print('X', X.shape ,' y ', y.shape)"
      ]
    },
    {
      "cell_type": "markdown",
      "metadata": {
        "id": "F0QJnzC7li2l"
      },
      "source": [
        "# Descente du Gradient : Préparation des fonctions"
      ]
    },
    {
      "cell_type": "markdown",
      "metadata": {
        "id": "EuR_ffF3li2n"
      },
      "source": [
        "0- Fonction Logistique (Sigmoid)"
      ]
    },
    {
      "cell_type": "code",
      "execution_count": null,
      "metadata": {
        "id": "6NwCSOJTli2o"
      },
      "outputs": [],
      "source": [
        "def Sigmoid(z):\n",
        "    # pour une valeur donnée, cette fonction calculera sa sigmoid\n",
        "    return 1/(1 + np.exp(-z))"
      ]
    },
    {
      "cell_type": "markdown",
      "source": [
        "Fonction Hestimation qui renvoi la prédiction de la classe en fonction de features"
      ],
      "metadata": {
        "id": "aih87veG-wZr"
      }
    },
    {
      "cell_type": "code",
      "source": [
        "def hest(X, theta):\n",
        "  return Sigmoid(X.dot(theta))"
      ],
      "metadata": {
        "id": "yCPKd-eS-l0e"
      },
      "execution_count": null,
      "outputs": []
    },
    {
      "cell_type": "markdown",
      "metadata": {
        "id": "ighN74X_li2p"
      },
      "source": [
        "1- Calcul du coût\n",
        "\n",
        "Cette fonction servira à calculer le cout $J(\\theta_0,\\theta_1,\\theta_2)$\n",
        "\n",
        "Elle prendra l'ensemble de données d'apprentissage en entrée ainsi que les paramètres définis initialement"
      ]
    },
    {
      "cell_type": "code",
      "source": [
        "def computeCost(X, y, theta):\n",
        "    return -np.mean(y * np.log(hest(X, theta)) + (1 - y) * np.log(1 - hest(X, theta)))"
      ],
      "metadata": {
        "id": "BsfIHzqhr66_"
      },
      "execution_count": null,
      "outputs": []
    },
    {
      "cell_type": "markdown",
      "metadata": {
        "id": "k-O4vHFvli2q"
      },
      "source": [
        "2- Fonction de la descente du gradient\n",
        "\n",
        "Cette fonction mettra à jour les paramètres $\\theta_0,\\theta_2,\\theta_1$ jusqu'à convergence: atteinte du nombre d'itérations max, ou dérivée assez petite."
      ]
    },
    {
      "cell_type": "code",
      "execution_count": null,
      "metadata": {
        "id": "4PBeSORqli2r"
      },
      "outputs": [],
      "source": [
        "def gradientDescent(X, y, theta, alpha=0.9, iterations=10000):\n",
        "\n",
        "    # initialisation des liste des historiques\n",
        "    cost_list = []\n",
        "    theta0_list = []\n",
        "    theta1_list = []\n",
        "    theta2_list = []\n",
        "\n",
        "    H = np.zeros((X.shape[0], 1))\n",
        "    m = len(y)\n",
        "\n",
        "    # Sauvegarde de la première valeur \n",
        "    cost_list.append(computeCost(X, y, theta))\n",
        "    theta0_list.append(theta[0])\n",
        "    theta1_list.append(theta[1])\n",
        "    theta2_list.append(theta[2])\n",
        "\n",
        "    for iter in tqdm(range(iterations)):\n",
        "      # Calcule de l'hestimation\n",
        "      H = hest(X, theta)\n",
        "      # Calcule de l'erreur entre l'estimation et la vérité terrain\n",
        "      err = np.subtract(H, y)\n",
        "      # Mise a jours des valeurs de theta\n",
        "      new_theta = alpha * 1/m * np.sum(np.dot(X.T, err),axis=1).reshape(-1,1)\n",
        "      theta = np.subtract(theta, new_theta)\n",
        "      # Sauvegarde des résulat de l'itération\n",
        "      theta0_list.append(theta[0])\n",
        "      theta1_list.append(theta[1])\n",
        "      theta2_list.append(theta[2])\n",
        "      cost_list.append(computeCost(X, y, theta))\n",
        "      \n",
        "    return theta, theta0_list,theta1_list,theta2_list ,cost_list"
      ]
    },
    {
      "cell_type": "markdown",
      "source": [
        "Fonction predict qui prédit la classe de X  \n",
        "le seuil est là pour changer la précision du modèle, par défaut il est a 0.5"
      ],
      "metadata": {
        "id": "eLNN3E0a_qVI"
      }
    },
    {
      "cell_type": "code",
      "source": [
        "def predict(X, theta, seuil=0.5):\n",
        "  preds = hest(np.asarray(X), theta)\n",
        "  pred_class = [1 if i >= seuil else 0 for i in preds]\n",
        "  return np.array(pred_class)"
      ],
      "metadata": {
        "id": "c316Zok1CDWl"
      },
      "execution_count": null,
      "outputs": []
    },
    {
      "cell_type": "markdown",
      "source": [
        "Fonction qui renvoi la probabilité d'appartenance a une classe"
      ],
      "metadata": {
        "id": "YoYl59j0DrmE"
      }
    },
    {
      "cell_type": "code",
      "source": [
        "def predictProba(X, theta):\n",
        "  preds = hest(np.asarray(X), theta)\n",
        "  return np.array(preds)"
      ],
      "metadata": {
        "id": "h5Tb1_8MDDPv"
      },
      "execution_count": null,
      "outputs": []
    },
    {
      "cell_type": "markdown",
      "metadata": {
        "id": "3VXhmM9Pli2r"
      },
      "source": [
        "# Descente du Gradient : Appel des fonctions"
      ]
    },
    {
      "cell_type": "markdown",
      "metadata": {
        "id": "hahnxf6Hli2s"
      },
      "source": [
        "Initialisation de $\\theta_0$, $\\theta_1$ et $\\theta_2$"
      ]
    },
    {
      "cell_type": "code",
      "execution_count": null,
      "metadata": {
        "id": "HN41M6S4li2s",
        "outputId": "f52f1a95-6f37-45eb-cbd2-2dfad70ff0a5",
        "colab": {
          "base_uri": "https://localhost:8080/"
        }
      },
      "outputs": [
        {
          "output_type": "execute_result",
          "data": {
            "text/plain": [
              "array([[0.],\n",
              "       [0.],\n",
              "       [0.]])"
            ]
          },
          "metadata": {},
          "execution_count": 33
        }
      ],
      "source": [
        "theta = np.zeros((X.shape[1], 1))\n",
        "theta"
      ]
    },
    {
      "cell_type": "markdown",
      "metadata": {
        "id": "tYUfL3Bhli2t"
      },
      "source": [
        "Calculer le cout initial"
      ]
    },
    {
      "cell_type": "code",
      "execution_count": null,
      "metadata": {
        "id": "_bDHvZXfli2u",
        "colab": {
          "base_uri": "https://localhost:8080/"
        },
        "outputId": "8e3a2908-445b-4f04-feb0-c3db969e63f2"
      },
      "outputs": [
        {
          "output_type": "execute_result",
          "data": {
            "text/plain": [
              "0.6931471805599453"
            ]
          },
          "metadata": {},
          "execution_count": 34
        }
      ],
      "source": [
        "initialCost=computeCost(X, y, theta)\n",
        "initialCost"
      ]
    },
    {
      "cell_type": "markdown",
      "metadata": {
        "id": "K7cKQocKli2w"
      },
      "source": [
        "Appel des la fonction de calcul du gradient"
      ]
    },
    {
      "cell_type": "code",
      "execution_count": null,
      "metadata": {
        "id": "d8ZgiWUUli2x",
        "colab": {
          "base_uri": "https://localhost:8080/"
        },
        "outputId": "6c4ab717-4f8a-4a57-c84c-0333e0d0001a"
      },
      "outputs": [
        {
          "output_type": "stream",
          "name": "stderr",
          "text": [
            "100%|██████████| 30000/30000 [00:02<00:00, 10684.96it/s]\n"
          ]
        }
      ],
      "source": [
        "theta = np.zeros((X.shape[1], 1)) # ajouté ici pour éviter de rerun toute les cellule a chaque fois \n",
        "# paramètres\n",
        "iterations = 30000;\n",
        "alpha = 0.09;\n",
        "# Appel\n",
        "theta, theta0_list,theta1_list,theta2_list, cost_list  = gradientDescent(X, y, theta, alpha, iterations);"
      ]
    },
    {
      "cell_type": "markdown",
      "source": [
        "Valeurs de $\\theta_0$,$\\theta_1$ et $\\theta_2$ après entrainement"
      ],
      "metadata": {
        "id": "vbT_8IfF_8eg"
      }
    },
    {
      "cell_type": "code",
      "source": [
        "from sklearn.metrics import accuracy_score, confusion_matrix, roc_curve"
      ],
      "metadata": {
        "id": "_YUSPQKSNLBZ"
      },
      "execution_count": null,
      "outputs": []
    },
    {
      "cell_type": "code",
      "source": [
        "accuracy_score(y, predict(X, theta))"
      ],
      "metadata": {
        "colab": {
          "base_uri": "https://localhost:8080/"
        },
        "id": "cbtxaHaRCwsQ",
        "outputId": "64681752-ebeb-4347-a17d-5990941d957c"
      },
      "execution_count": null,
      "outputs": [
        {
          "output_type": "execute_result",
          "data": {
            "text/plain": [
              "0.89"
            ]
          },
          "metadata": {},
          "execution_count": 37
        }
      ]
    },
    {
      "cell_type": "code",
      "source": [
        "theta"
      ],
      "metadata": {
        "colab": {
          "base_uri": "https://localhost:8080/"
        },
        "id": "C6uFz2xlG1ZB",
        "outputId": "53c6d478-0639-4086-a3ea-e2d0c6d7a994"
      },
      "execution_count": null,
      "outputs": [
        {
          "output_type": "execute_result",
          "data": {
            "text/plain": [
              "array([[-23.27553207],\n",
              "       [  0.95576857],\n",
              "       [  0.93103277]])"
            ]
          },
          "metadata": {},
          "execution_count": 38
        }
      ]
    },
    {
      "cell_type": "markdown",
      "source": [
        "Le cours lors de la dernière itération"
      ],
      "metadata": {
        "id": "h_eQHbEOAFgQ"
      }
    },
    {
      "cell_type": "code",
      "source": [
        "cost_list[-1]"
      ],
      "metadata": {
        "colab": {
          "base_uri": "https://localhost:8080/"
        },
        "id": "az1UWcJwt_hR",
        "outputId": "bce0d858-deff-4edd-dbcb-95a1349f27fd"
      },
      "execution_count": null,
      "outputs": [
        {
          "output_type": "execute_result",
          "data": {
            "text/plain": [
              "0.20405997804079049"
            ]
          },
          "metadata": {},
          "execution_count": 39
        }
      ]
    },
    {
      "cell_type": "markdown",
      "metadata": {
        "id": "FXMohsumli2y"
      },
      "source": [
        "Traçage de la fonction du coût"
      ]
    },
    {
      "cell_type": "markdown",
      "metadata": {
        "id": "hkTHZQNZli2z"
      },
      "source": [
        "Notons que $\\theta^T  x$ est équivalent à $X  \\theta $ où $X= \\begin{pmatrix}\n",
        "..(x^{(1)})^T..\\\\\n",
        "..(x^{(2)})^T..\\\\\n",
        ".\\\\\n",
        ".\\\\\n",
        ".\\\\\n",
        "..(x^{(m)})^T..\n",
        "\\end{pmatrix} $"
      ]
    },
    {
      "cell_type": "markdown",
      "metadata": {
        "id": "7b5iel-bli2z"
      },
      "source": [
        "# Dessin de la limite de decision (Descision Boundary)\n",
        "Dans cette partie, nous aimerions dessiner la ligne separatrice d nos données"
      ]
    },
    {
      "cell_type": "code",
      "execution_count": null,
      "metadata": {
        "id": "PU5PqkzJli20"
      },
      "outputs": [],
      "source": [
        "def drawLine(X, theta):\n",
        "  \n",
        "  b = theta[0]\n",
        "  w1, w2 = theta[1:3]\n",
        "\n",
        "  c = -b/w2\n",
        "  m = -w1/w2\n",
        "\n",
        "  xmin, xmax = X.min(), X.max()\n",
        "\n",
        "  x = np.array([xmin, xmax])\n",
        "  y = m*x + c\n",
        "\n",
        "  plt.plot(x, y, 'k')"
      ]
    },
    {
      "cell_type": "markdown",
      "metadata": {
        "id": "I0Q-K15kli20"
      },
      "source": [
        "# Affichage \n",
        "Graphe representant les acceptations selon les caracteristiques"
      ]
    },
    {
      "cell_type": "code",
      "execution_count": null,
      "metadata": {
        "id": "0NtQSE9Lli21",
        "outputId": "de51fd8b-204d-424c-b6c1-ca4249e1a623",
        "colab": {
          "base_uri": "https://localhost:8080/",
          "height": 296
        }
      },
      "outputs": [
        {
          "output_type": "execute_result",
          "data": {
            "text/plain": [
              "Text(0, 0.5, 'Note module 2')"
            ]
          },
          "metadata": {},
          "execution_count": 41
        },
        {
          "output_type": "display_data",
          "data": {
            "text/plain": [
              "<Figure size 432x288 with 1 Axes>"
            ],
            "image/png": "[encoded data removed]"
          },
          "metadata": {
            "needs_background": "light"
          }
        }
      ],
      "source": [
        "plt.scatter(X[np.where(y==1),1],X[np.where(y==1),2], label=\"accepte\",marker ='o')\n",
        "plt.scatter(X[np.where(y==0),1],X[np.where(y==0),2], label=\"non accepte\",marker ='x')\n",
        "drawLine(X, theta)\n",
        "plt.legend()\n",
        "plt.xlabel('Note module 1')\n",
        "plt.ylabel('Note module 2')"
      ]
    },
    {
      "cell_type": "markdown",
      "metadata": {
        "id": "_hhwjaiVli21"
      },
      "source": [
        "Traçage de $\\theta_0$, $\\theta_1$ et $\\theta_2$ en fonction du nombre d'itération"
      ]
    },
    {
      "cell_type": "code",
      "source": [
        "plt.plot(theta0_list[0:len(theta0_list)], color='green', label='$\\\\theta_{0}$')\n",
        "plt.plot(theta1_list[0:len(theta1_list)], color='blue', label='$\\\\theta_{1}$')\n",
        "plt.plot(theta2_list[0:len(theta2_list)], color='red', label='$\\\\theta_{2}$')\n",
        "plt.xlabel(\"Iterations\")\n",
        "plt.ylabel(\"theta values\")\n",
        "plt.legend()"
      ],
      "metadata": {
        "colab": {
          "base_uri": "https://localhost:8080/",
          "height": 296
        },
        "id": "xA7Gt4KxttyG",
        "outputId": "9be6f8fb-2b5d-42d2-c7e3-9ba24f56b71d"
      },
      "execution_count": null,
      "outputs": [
        {
          "output_type": "execute_result",
          "data": {
            "text/plain": [
              "<matplotlib.legend.Legend at 0x7f96d08c0dd0>"
            ]
          },
          "metadata": {},
          "execution_count": 42
        },
        {
          "output_type": "display_data",
          "data": {
            "text/plain": [
              "<Figure size 432x288 with 1 Axes>"
            ],
            "image/png": "[encoded data removed]"
          },
          "metadata": {
            "needs_background": "light"
          }
        }
      ]
    },
    {
      "cell_type": "code",
      "source": [
        "plt.plot(cost_list[0:len(cost_list)], label='$J(\\\\theta_{0}, \\\\theta_{1}, \\\\theta_{2})$')\n",
        "plt.xlabel(\"Iterations\")\n",
        "plt.ylabel(\"cost values\")\n",
        "plt.legend()"
      ],
      "metadata": {
        "colab": {
          "base_uri": "https://localhost:8080/",
          "height": 296
        },
        "id": "sporNM8l405x",
        "outputId": "2fdb2d0e-441d-4724-f98a-594407129d1c"
      },
      "execution_count": null,
      "outputs": [
        {
          "output_type": "execute_result",
          "data": {
            "text/plain": [
              "<matplotlib.legend.Legend at 0x7f96cfec1110>"
            ]
          },
          "metadata": {},
          "execution_count": 43
        },
        {
          "output_type": "display_data",
          "data": {
            "text/plain": [
              "<Figure size 432x288 with 1 Axes>"
            ],
            "image/png": "[encoded data removed]"
          },
          "metadata": {
            "needs_background": "light"
          }
        }
      ]
    },
    {
      "cell_type": "markdown",
      "metadata": {
        "id": "6sAIpj4wli22"
      },
      "source": [
        "Prédire des valeurs de y"
      ]
    },
    {
      "cell_type": "code",
      "execution_count": null,
      "metadata": {
        "id": "C7_sbo_Xli22",
        "colab": {
          "base_uri": "https://localhost:8080/"
        },
        "outputId": "7b6b282b-2f11-4a09-f49c-21423fd3cfd6"
      },
      "outputs": [
        {
          "output_type": "execute_result",
          "data": {
            "text/plain": [
              "(array([1]), array([0.76023023]))"
            ]
          },
          "metadata": {},
          "execution_count": 44
        }
      ],
      "source": [
        "# Predire pour des notes note1= 9 et note2=17\n",
        "myPrediction = predict([1, 9, 17], theta)\n",
        "myPrediction, predictProba([1, 9, 17], theta)"
      ]
    },
    {
      "cell_type": "markdown",
      "metadata": {
        "id": "FfqKY2P5li23"
      },
      "source": [
        "# Vérification de l'implementation\n",
        "Comparer vos algorithmes à ceux de scikitlearn"
      ]
    },
    {
      "cell_type": "code",
      "execution_count": null,
      "metadata": {
        "id": "zU-nl5m8li23"
      },
      "outputs": [],
      "source": [
        "from sklearn.linear_model import LogisticRegression\n",
        "logisticRegr = LogisticRegression(tol=0.09, max_iter=9000)"
      ]
    },
    {
      "cell_type": "code",
      "source": [
        "logisticRegr.fit(X[:, 1:3], y)"
      ],
      "metadata": {
        "colab": {
          "base_uri": "https://localhost:8080/"
        },
        "id": "Il1S3Kqr_mNo",
        "outputId": "9395f769-b345-40e4-e0b6-2d96cf38773f"
      },
      "execution_count": null,
      "outputs": [
        {
          "output_type": "stream",
          "name": "stderr",
          "text": [
            "/usr/local/lib/python3.7/dist-packages/sklearn/utils/validation.py:993: DataConversionWarning: A column-vector y was passed when a 1d array was expected. Please change the shape of y to (n_samples, ), for example using ravel().\n",
            "  y = column_or_1d(y, warn=True)\n"
          ]
        },
        {
          "output_type": "execute_result",
          "data": {
            "text/plain": [
              "LogisticRegression(max_iter=9000, tol=0.09)"
            ]
          },
          "metadata": {},
          "execution_count": 46
        }
      ]
    },
    {
      "cell_type": "markdown",
      "source": [
        "Génération de i exemple aléatoire pour tester notre model ainsi que le model de sklearn sur d'autre donnée que le train set"
      ],
      "metadata": {
        "id": "QMiWHTSAEBwO"
      }
    },
    {
      "cell_type": "code",
      "source": [
        "import random as rand\n",
        "preds = []\n",
        "i = 10000\n",
        "for i in range(i):\n",
        "  preds.append([1, rand.uniform(0, 21), rand.uniform(0, 20)])"
      ],
      "metadata": {
        "id": "J-y5pxQQJhgm"
      },
      "execution_count": null,
      "outputs": []
    },
    {
      "cell_type": "code",
      "source": [
        "np.array(preds)[:5]"
      ],
      "metadata": {
        "colab": {
          "base_uri": "https://localhost:8080/"
        },
        "id": "GUjB-toWKasl",
        "outputId": "90a3938c-3158-400d-fb87-d036f724b438"
      },
      "execution_count": null,
      "outputs": [
        {
          "output_type": "execute_result",
          "data": {
            "text/plain": [
              "array([[ 1.        , 14.27120966,  9.99791947],\n",
              "       [ 1.        ,  4.16079961,  3.67845459],\n",
              "       [ 1.        ,  4.64790513, 13.53357805],\n",
              "       [ 1.        , 15.76331627, 13.20791918],\n",
              "       [ 1.        ,  8.79446723,  9.36773939]])"
            ]
          },
          "metadata": {},
          "execution_count": 48
        }
      ]
    },
    {
      "cell_type": "markdown",
      "source": [
        "Affichage des 10 première prédiction de sklearn et de notre implémentation a titre comparatif"
      ],
      "metadata": {
        "id": "WYuFYZD_Ew3v"
      }
    },
    {
      "cell_type": "code",
      "source": [
        "y_pred = logisticRegr.predict(np.array(preds)[:, 1:3])\n",
        "myPrediction = predict(preds, theta)\n",
        "y_pred[:10], myPrediction[:10]"
      ],
      "metadata": {
        "colab": {
          "base_uri": "https://localhost:8080/"
        },
        "id": "1VhRfZzfBB-G",
        "outputId": "1345a773-dd36-4d5f-a8ca-98dcb5fa6700"
      },
      "execution_count": null,
      "outputs": [
        {
          "output_type": "execute_result",
          "data": {
            "text/plain": [
              "(array([0., 0., 0., 1., 0., 0., 0., 0., 0., 1.]),\n",
              " array([0, 0, 0, 1, 0, 0, 0, 0, 0, 1]))"
            ]
          },
          "metadata": {},
          "execution_count": 49
        }
      ]
    },
    {
      "cell_type": "markdown",
      "source": [
        "Utilisation de quelques metrique a titre comparatif"
      ],
      "metadata": {
        "id": "tUx_33iWE2oX"
      }
    },
    {
      "cell_type": "markdown",
      "source": [
        "Accuracy"
      ],
      "metadata": {
        "id": "JtD0BKrUGfMn"
      }
    },
    {
      "cell_type": "code",
      "source": [
        "accuracy_score(y, predict(X, theta)), accuracy_score(y, logisticRegr.predict(X[:, 1:3]))"
      ],
      "metadata": {
        "colab": {
          "base_uri": "https://localhost:8080/"
        },
        "id": "ZKIq7rXfd3ZF",
        "outputId": "45fb7925-eb10-48e3-85a5-71f219aef66e"
      },
      "execution_count": null,
      "outputs": [
        {
          "output_type": "execute_result",
          "data": {
            "text/plain": [
              "(0.89, 0.89)"
            ]
          },
          "metadata": {},
          "execution_count": 50
        }
      ]
    },
    {
      "cell_type": "markdown",
      "source": [
        "Matrice de confusion"
      ],
      "metadata": {
        "id": "8Tnvgdh8GhDu"
      }
    },
    {
      "cell_type": "code",
      "source": [
        "from seaborn import heatmap"
      ],
      "metadata": {
        "id": "OD8mcke4HkHz"
      },
      "execution_count": null,
      "outputs": []
    },
    {
      "cell_type": "code",
      "source": [
        "heatmap(confusion_matrix(y, predict(X, theta)), annot=True)"
      ],
      "metadata": {
        "colab": {
          "base_uri": "https://localhost:8080/",
          "height": 282
        },
        "id": "pRuzAc_PepBS",
        "outputId": "253e4db8-b11b-4926-950d-99c964728eb3"
      },
      "execution_count": null,
      "outputs": [
        {
          "output_type": "execute_result",
          "data": {
            "text/plain": [
              "<matplotlib.axes._subplots.AxesSubplot at 0x7f96b6b46b50>"
            ]
          },
          "metadata": {},
          "execution_count": 52
        },
        {
          "output_type": "display_data",
          "data": {
            "text/plain": [
              "<Figure size 432x288 with 2 Axes>"
            ],
            "image/png": "[encoded data removed]"
          },
          "metadata": {
            "needs_background": "light"
          }
        }
      ]
    },
    {
      "cell_type": "code",
      "source": [
        "heatmap(confusion_matrix(y, logisticRegr.predict(X[:, 1:3])), annot=True)"
      ],
      "metadata": {
        "colab": {
          "base_uri": "https://localhost:8080/",
          "height": 282
        },
        "id": "c9XMcdD8evvs",
        "outputId": "ae75ee45-889a-4224-bcd4-89659db3ab55"
      },
      "execution_count": null,
      "outputs": [
        {
          "output_type": "execute_result",
          "data": {
            "text/plain": [
              "<matplotlib.axes._subplots.AxesSubplot at 0x7f96b6381490>"
            ]
          },
          "metadata": {},
          "execution_count": 53
        },
        {
          "output_type": "display_data",
          "data": {
            "text/plain": [
              "<Figure size 432x288 with 2 Axes>"
            ],
            "image/png": "[encoded data removed]"
          },
          "metadata": {
            "needs_background": "light"
          }
        }
      ]
    },
    {
      "cell_type": "markdown",
      "source": [
        "Courbe Roc"
      ],
      "metadata": {
        "id": "72EdmN2rH4Qs"
      }
    },
    {
      "cell_type": "code",
      "source": [
        "fpr1, tpr1, _ = roc_curve(y,  logisticRegr.predict_proba(X[:, 1:3])[::,1])\n",
        "fpr2, tpr2, _ = roc_curve(y,  predictProba(X, theta))"
      ],
      "metadata": {
        "id": "Vf_gNHArFLW8"
      },
      "execution_count": null,
      "outputs": []
    },
    {
      "cell_type": "code",
      "source": [
        "f = plt.figure()\n",
        "f.set_figwidth(20)\n",
        "f.set_figheight(5)\n",
        "\n",
        "plt.subplot(1, 2, 1) # row 1, col 2 index 1\n",
        "plt.plot(fpr1,tpr1)\n",
        "plt.ylabel('True Positive Rate')\n",
        "plt.xlabel('False Positive Rate')\n",
        "\n",
        "plt.subplot(1, 2, 2) # index 2\n",
        "plt.plot(fpr2,tpr2)\n",
        "plt.ylabel('True Positive Rate')\n",
        "plt.xlabel('False Positive Rate')"
      ],
      "metadata": {
        "colab": {
          "base_uri": "https://localhost:8080/",
          "height": 351
        },
        "id": "fFgby2nZFg55",
        "outputId": "143987d6-5291-4d17-93ee-35e50ed10787"
      },
      "execution_count": null,
      "outputs": [
        {
          "output_type": "execute_result",
          "data": {
            "text/plain": [
              "Text(0.5, 0, 'False Positive Rate')"
            ]
          },
          "metadata": {},
          "execution_count": 55
        },
        {
          "output_type": "display_data",
          "data": {
            "text/plain": [
              "<Figure size 1440x360 with 2 Axes>"
            ],
            "image/png": "[encoded data removed]"
          },
          "metadata": {
            "needs_background": "light"
          }
        }
      ]
    },
    {
      "cell_type": "markdown",
      "source": [
        "Comparaison entre les valeur theta de notre implémentation et celle de sklearn"
      ],
      "metadata": {
        "id": "bdXvMXM8H7Fc"
      }
    },
    {
      "cell_type": "code",
      "source": [
        "print(theta.reshape(1, -1))\n",
        "print(logisticRegr.intercept_, logisticRegr.coef_)"
      ],
      "metadata": {
        "colab": {
          "base_uri": "https://localhost:8080/"
        },
        "id": "eo2Y8itqblw5",
        "outputId": "9a156266-14aa-4f5a-aa3c-4b826efc088c"
      },
      "execution_count": null,
      "outputs": [
        {
          "output_type": "stream",
          "name": "stdout",
          "text": [
            "[[-23.27553207   0.95576857   0.93103277]]\n",
            "[-22.96736174] [[0.94273608 0.91838238]]\n"
          ]
        }
      ]
    },
    {
      "cell_type": "markdown",
      "source": [
        "on vectories les theta de sklearn pour dessiner la limite de décision de sklearn pour comparer entre les 2 graphes"
      ],
      "metadata": {
        "id": "azfkm8A0H_t9"
      }
    },
    {
      "cell_type": "code",
      "source": [
        "parameters = np.array([logisticRegr.intercept_[0], logisticRegr.coef_[0][0], logisticRegr.coef_[0][1]])"
      ],
      "metadata": {
        "id": "lwFxBVeDkY6G"
      },
      "execution_count": null,
      "outputs": []
    },
    {
      "cell_type": "code",
      "source": [
        "f = plt.figure()\n",
        "f.set_figwidth(20)\n",
        "f.set_figheight(5)\n",
        "\n",
        "plt.subplot(1, 2, 1) # row 1, col 2 index 1\n",
        "plt.scatter(X[np.where(y==1),1],X[np.where(y==1),2], label=\"accepte\",marker ='o')\n",
        "plt.scatter(X[np.where(y==0),1],X[np.where(y==0),2], label=\"non accepte\",marker ='x')\n",
        "drawLine(X, parameters)\n",
        "plt.xlabel('Note module 1')\n",
        "plt.ylabel('Note module 2')\n",
        "plt.legend()\n",
        "\n",
        "plt.subplot(1, 2, 2) # index 2\n",
        "plt.scatter(X[np.where(y==1),1],X[np.where(y==1),2], label=\"accepte\",marker ='o')\n",
        "plt.scatter(X[np.where(y==0),1],X[np.where(y==0),2], label=\"non accepte\",marker ='x')\n",
        "drawLine(X, theta)\n",
        "plt.xlabel('Note module 1')\n",
        "plt.ylabel('Note module 2')\n",
        "plt.legend()"
      ],
      "metadata": {
        "colab": {
          "base_uri": "https://localhost:8080/",
          "height": 351
        },
        "id": "UMWhxtAGlkZM",
        "outputId": "d41afd94-d93a-43fc-eb69-fd793379daf7"
      },
      "execution_count": null,
      "outputs": [
        {
          "output_type": "execute_result",
          "data": {
            "text/plain": [
              "<matplotlib.legend.Legend at 0x7f96b6187bd0>"
            ]
          },
          "metadata": {},
          "execution_count": 58
        },
        {
          "output_type": "display_data",
          "data": {
            "text/plain": [
              "<Figure size 1440x360 with 2 Axes>"
            ],
            "image/png": "[encoded data removed]"
          },
          "metadata": {
            "needs_background": "light"
          }
        }
      ]
    },
    {
      "cell_type": "markdown",
      "metadata": {
        "id": "Fu0iYDJ4li23"
      },
      "source": [
        "# Renforcement d'apprentissage\n",
        "Mettre ici toute idée qui pourrait renforcer votre apprentissage"
      ]
    },
    {
      "cell_type": "code",
      "execution_count": null,
      "metadata": {
        "id": "yKsmDHdAli24"
      },
      "outputs": [],
      "source": [
        "pass"
      ]
    },
    {
      "cell_type": "markdown",
      "metadata": {
        "id": "ciFQevxvli24"
      },
      "source": [
        "# Consignes"
      ]
    },
    {
      "cell_type": "markdown",
      "metadata": {
        "id": "2Wq1GFwdli25"
      },
      "source": [
        "Le travail est à remettre par groupe de 4 au maximum [1..4].\n",
        "\n",
        "Le délai est le vendredi 25 Mars 2022 à 22h\n"
      ]
    },
    {
      "cell_type": "code",
      "execution_count": null,
      "metadata": {
        "id": "o85gGz7Vli25"
      },
      "outputs": [],
      "source": [
        "# bonne chance"
      ]
    }
  ],
  "metadata": {
    "kernelspec": {
      "display_name": "Python 3",
      "language": "python",
      "name": "python3"
    },
    "language_info": {
      "codemirror_mode": {
        "name": "ipython",
        "version": 3
      },
      "file_extension": ".py",
      "mimetype": "text/x-python",
      "name": "python",
      "nbconvert_exporter": "python",
      "pygments_lexer": "ipython3",
      "version": "3.7.3"
    },
    "colab": {
      "name": "03 Logistic Regression.ipynb",
      "provenance": [],
      "collapsed_sections": []
    }
  },
  "nbformat": 4,
  "nbformat_minor": 0
}